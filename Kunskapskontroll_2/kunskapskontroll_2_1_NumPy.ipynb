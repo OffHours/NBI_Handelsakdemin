{
 "cells": [
  {
   "cell_type": "markdown",
   "id": "dacf74e6",
   "metadata": {
    "id": "dacf74e6"
   },
   "source": [
    "# NumPy"
   ]
  },
  {
   "cell_type": "markdown",
   "id": "01b2bf34",
   "metadata": {
    "id": "01b2bf34"
   },
   "source": [
    "Read the links: https://numpy.org/doc/stable/user/quickstart.html  and https://numpy.org/doc/stable/user/basics.broadcasting.html  before solving the exercises."
   ]
  },
  {
   "cell_type": "code",
   "execution_count": 1,
   "id": "1f79e4a6",
   "metadata": {
    "executionInfo": {
     "elapsed": 858,
     "status": "ok",
     "timestamp": 1732535941736,
     "user": {
      "displayName": "OS HO",
      "userId": "04423011755945009242"
     },
     "user_tz": -60
    },
    "id": "1f79e4a6"
   },
   "outputs": [],
   "source": [
    "import numpy as np"
   ]
  },
  {
   "cell_type": "markdown",
   "id": "7dae6889",
   "metadata": {
    "id": "7dae6889"
   },
   "source": [
    "### Print out the dimension (number of axes), shape, size and the datatype of the matrix A."
   ]
  },
  {
   "cell_type": "code",
   "execution_count": 2,
   "id": "7b3678cd",
   "metadata": {
    "colab": {
     "base_uri": "https://localhost:8080/"
    },
    "executionInfo": {
     "elapsed": 238,
     "status": "ok",
     "timestamp": 1732536090735,
     "user": {
      "displayName": "OS HO",
      "userId": "04423011755945009242"
     },
     "user_tz": -60
    },
    "id": "7b3678cd",
    "outputId": "50d4d0fc-a6e0-4f27-a10e-5c91d2a8c642"
   },
   "outputs": [
    {
     "name": "stdout",
     "output_type": "stream",
     "text": [
      "[[ 1  2  3  4  5]\n",
      " [ 6  7  8  9 10]\n",
      " [11 12 13 14 15]]\n"
     ]
    }
   ],
   "source": [
    "A = np.arange(1, 16).reshape(3,5)\n",
    "print(A)\n",
    "\n"
   ]
  },
  {
   "cell_type": "code",
   "execution_count": 3,
   "id": "31d39235",
   "metadata": {
    "colab": {
     "base_uri": "https://localhost:8080/"
    },
    "executionInfo": {
     "elapsed": 258,
     "status": "ok",
     "timestamp": 1732536093304,
     "user": {
      "displayName": "OS HO",
      "userId": "04423011755945009242"
     },
     "user_tz": -60
    },
    "id": "31d39235",
    "outputId": "43655ded-0932-4ee8-f8fe-abb7a6cbb346"
   },
   "outputs": [
    {
     "name": "stdout",
     "output_type": "stream",
     "text": [
      "2\n",
      "(3, 5)\n",
      "15\n",
      "int32\n"
     ]
    }
   ],
   "source": [
    "print(A.ndim)\n",
    "print(A.shape)\n",
    "print(A.size)\n",
    "print(A.dtype)\n"
   ]
  },
  {
   "cell_type": "markdown",
   "id": "e56d2a96",
   "metadata": {
    "id": "e56d2a96"
   },
   "source": [
    "### Do the following computations on the matrices B and C:\n",
    "* Elementwise subtraction.\n",
    "* Elementwise multiplication.\n",
    "* Matrix multiplication (by default you should use the @ operator)."
   ]
  },
  {
   "cell_type": "code",
   "execution_count": 4,
   "id": "a7053fbb",
   "metadata": {
    "id": "a7053fbb"
   },
   "outputs": [
    {
     "name": "stdout",
     "output_type": "stream",
     "text": [
      "[[1 2 3]\n",
      " [4 5 6]\n",
      " [7 8 9]]\n",
      "[[2. 2. 2.]\n",
      " [2. 2. 2.]\n",
      " [2. 2. 2.]] \n",
      " \n",
      "Subtraction \n",
      " [[-1.  0.  1.]\n",
      " [ 2.  3.  4.]\n",
      " [ 5.  6.  7.]]\n",
      " \n",
      "Multiplication \n",
      " [[ 2.  4.  6.]\n",
      " [ 8. 10. 12.]\n",
      " [14. 16. 18.]]\n",
      " \n",
      "Matrix multiplication \n",
      " [[12. 12. 12.]\n",
      " [30. 30. 30.]\n",
      " [48. 48. 48.]]\n",
      " \n"
     ]
    }
   ],
   "source": [
    "B = np.arange(1, 10).reshape(3, 3)\n",
    "C = np.ones((3, 3))*2\n",
    "D = np.subtract(B, C)\n",
    "E = np.multiply(B, C)\n",
    "F = np.matmul(B, C)\n",
    "\n",
    "print(B)\n",
    "print(f'{C} \\n ')\n",
    "\n",
    "print(f'Subtraction \\n {D}\\n ')\n",
    "print(f'Multiplication \\n {E}\\n ')\n",
    "print(f'Matrix multiplication \\n {F}\\n ')"
   ]
  },
  {
   "cell_type": "markdown",
   "id": "96030d53",
   "metadata": {
    "id": "96030d53"
   },
   "source": [
    "### Do the following calculations on the matrix:\n",
    "* Exponentiate each number elementwise (use the np.exp function).\n",
    "\n",
    "* Calculate the minimum value in the whole matrix.\n",
    "* Calculcate the minimum value in each row.\n",
    "* Calculcate the minimum value in each column.\n",
    "\n",
    "\n",
    "* Find the index value for the minimum value in the whole matrix (hint: use np.argmin).\n",
    "* Find the index value for the minimum value in each row (hint: use np.argmin).\n",
    "\n",
    "\n",
    "* Calculate the sum for all elements.\n",
    "* Calculate the mean for each column.\n",
    "* Calculate the median for each column."
   ]
  },
  {
   "cell_type": "code",
   "execution_count": 5,
   "id": "f8a9166b",
   "metadata": {
    "id": "f8a9166b"
   },
   "outputs": [
    {
     "name": "stdout",
     "output_type": "stream",
     "text": [
      "[[1 2 3]\n",
      " [4 5 6]\n",
      " [7 8 9]]\n"
     ]
    }
   ],
   "source": [
    "B = np.arange(1, 10).reshape(3, 3)\n",
    "print(B)"
   ]
  },
  {
   "cell_type": "code",
   "execution_count": 6,
   "id": "f03f24f7",
   "metadata": {
    "id": "f03f24f7"
   },
   "outputs": [
    {
     "name": "stdout",
     "output_type": "stream",
     "text": [
      "Exponential \n",
      "[[2.71828183e+00 7.38905610e+00 2.00855369e+01]\n",
      " [5.45981500e+01 1.48413159e+02 4.03428793e+02]\n",
      " [1.09663316e+03 2.98095799e+03 8.10308393e+03]] \n",
      "\n",
      "Minimum \n",
      "1 \n",
      "\n",
      "Minimum in Columns \n",
      "[1 2 3] \n",
      "\n",
      "Minimum in Rows \n",
      "[1 4 7] \n",
      "\n",
      "Index Val for min val in matrix \n",
      "0 \n",
      "\n",
      "Index Val for min val in each row \n",
      "[0 0 0] \n",
      "\n",
      "Sum \n",
      "45 \n",
      "\n",
      "Mean \n",
      "5.0 \n",
      "\n",
      "Median  \n",
      "5.0 \n",
      "\n"
     ]
    }
   ],
   "source": [
    "C = np.exp(B)\n",
    "print(f'Exponential \\n{C} \\n')\n",
    "\n",
    "D = np.min(B)\n",
    "print(f'Minimum \\n{D} \\n')\n",
    "\n",
    "E = np.min(B, 0)\n",
    "print(f'Minimum in Columns \\n{E} \\n')\n",
    "\n",
    "F = np.min(B, 1)\n",
    "print(f'Minimum in Rows \\n{F} \\n')\n",
    "\n",
    "G = np.argmin(B)\n",
    "print(f'Index Val for min val in matrix \\n{G} \\n')\n",
    "\n",
    "H = np.argmin(B, 1)\n",
    "print(f'Index Val for min val in each row \\n{H} \\n')\n",
    "\n",
    "I = np.sum(B)\n",
    "print(f'Sum \\n{I} \\n')\n",
    "\n",
    "J = np.mean(B)\n",
    "print(f'Mean \\n{J} \\n')\n",
    "\n",
    "K = np.median(B)\n",
    "print(f'Median  \\n{K} \\n')\n"
   ]
  },
  {
   "cell_type": "markdown",
   "id": "541eb7ba",
   "metadata": {
    "id": "541eb7ba"
   },
   "source": [
    "### What does it mean when you provide fewer indices than axes when slicing? See example below."
   ]
  },
  {
   "cell_type": "code",
   "execution_count": 7,
   "id": "9c8abf56",
   "metadata": {
    "id": "9c8abf56"
   },
   "outputs": [
    {
     "name": "stdout",
     "output_type": "stream",
     "text": [
      "[[ 1  2  3  4  5]\n",
      " [ 6  7  8  9 10]\n",
      " [11 12 13 14 15]]\n"
     ]
    }
   ],
   "source": [
    "print(A)"
   ]
  },
  {
   "cell_type": "code",
   "execution_count": 8,
   "id": "69415f7b",
   "metadata": {
    "id": "69415f7b"
   },
   "outputs": [
    {
     "data": {
      "text/plain": [
       "array([ 6,  7,  8,  9, 10])"
      ]
     },
     "execution_count": 8,
     "metadata": {},
     "output_type": "execute_result"
    }
   ],
   "source": [
    "A[1]"
   ]
  },
  {
   "cell_type": "markdown",
   "id": "6c53541b",
   "metadata": {
    "id": "6c53541b"
   },
   "source": [
    "**Answer:**"
   ]
  },
  {
   "cell_type": "markdown",
   "id": "de01e120",
   "metadata": {
    "id": "de01e120"
   },
   "source": [
    "Excerpt from numpy fundamentals on indexing: \n",
    "* Note that if one indexes a multidimensional array with fewer indices than dimensions, one gets a subdimensional array.\n",
    "\n",
    "Meaning that it will return a subarray of the rest of the values in the specified dimension, in this case an array with 5 values."
   ]
  },
  {
   "cell_type": "markdown",
   "id": "6652d0c9",
   "metadata": {
    "id": "6652d0c9"
   },
   "source": [
    "### Iterating over multidimensional arrays is done with respect to the first axis, so in the example below we iterate trough the rows. If you would like to iterate through the array *elementwise*, how would you do that?"
   ]
  },
  {
   "cell_type": "code",
   "execution_count": 9,
   "id": "9459864f",
   "metadata": {
    "id": "9459864f"
   },
   "outputs": [
    {
     "data": {
      "text/plain": [
       "array([[ 1,  2,  3,  4,  5],\n",
       "       [ 6,  7,  8,  9, 10],\n",
       "       [11, 12, 13, 14, 15]])"
      ]
     },
     "execution_count": 9,
     "metadata": {},
     "output_type": "execute_result"
    }
   ],
   "source": [
    "A"
   ]
  },
  {
   "cell_type": "code",
   "execution_count": 10,
   "id": "a671bb5a",
   "metadata": {
    "id": "a671bb5a"
   },
   "outputs": [
    {
     "name": "stdout",
     "output_type": "stream",
     "text": [
      "[1 2 3 4 5]\n",
      "[ 6  7  8  9 10]\n",
      "[11 12 13 14 15]\n"
     ]
    }
   ],
   "source": [
    "for i in A:\n",
    "    print(i)"
   ]
  },
  {
   "cell_type": "code",
   "execution_count": 11,
   "id": "f4e443a0",
   "metadata": {
    "id": "f4e443a0"
   },
   "outputs": [
    {
     "name": "stdout",
     "output_type": "stream",
     "text": [
      "1\n",
      "2\n",
      "3\n",
      "4\n",
      "5\n",
      "6\n",
      "7\n",
      "8\n",
      "9\n",
      "10\n",
      "11\n",
      "12\n",
      "13\n",
      "14\n",
      "15\n"
     ]
    }
   ],
   "source": [
    "for x in A:\n",
    "    for y in x:\n",
    "        print(y)"
   ]
  },
  {
   "cell_type": "markdown",
   "id": "608a2583",
   "metadata": {
    "id": "608a2583"
   },
   "source": [
    "### Explain what the code below does. More specifically, b has three axes - what does this mean?"
   ]
  },
  {
   "cell_type": "code",
   "execution_count": 12,
   "id": "f8f9b26f",
   "metadata": {
    "id": "f8f9b26f"
   },
   "outputs": [
    {
     "name": "stdout",
     "output_type": "stream",
     "text": [
      "[ 0  1  2  3  4  5  6  7  8  9 10 11 12 13 14 15 16 17 18 19 20 21 22 23\n",
      " 24 25 26 27 28 29]\n",
      "\n",
      "[[[ 0  1  2  3  4]\n",
      "  [ 5  6  7  8  9]\n",
      "  [10 11 12 13 14]]\n",
      "\n",
      " [[15 16 17 18 19]\n",
      "  [20 21 22 23 24]\n",
      "  [25 26 27 28 29]]]\n"
     ]
    }
   ],
   "source": [
    "a = np.arange(30)\n",
    "b = a.reshape((2, 3, -1))\n",
    "print(a)\n",
    "print()\n",
    "\n",
    "print(b)"
   ]
  },
  {
   "cell_type": "markdown",
   "id": "863a45df",
   "metadata": {
    "id": "863a45df"
   },
   "source": [
    "* First we create a range, a, essentially a list of numbers.\n",
    "* Then we reshape it into a three dimensional array, b, using the reshape function. We basically ravel it into a list of numbers and then reorder it into a new array of the specified size and dimension. In this case (2, 3, -1).\n",
    "This leads to an array with 2 dimensions of 3 axes each and -1 means that the number of elements in each axis will automatically fit the available data. In this case there are 5 elements in each axis. The number of elements must be divisable by 6 (for the 2 dimensions of 3 axes 2x3=6) othervise you get a value error.\n"
   ]
  },
  {
   "cell_type": "code",
   "execution_count": 13,
   "id": "3c1fcb5d",
   "metadata": {},
   "outputs": [
    {
     "ename": "ValueError",
     "evalue": "cannot reshape array of size 29 into shape (2,3,newaxis)",
     "output_type": "error",
     "traceback": [
      "\u001b[1;31m---------------------------------------------------------------------------\u001b[0m",
      "\u001b[1;31mValueError\u001b[0m                                Traceback (most recent call last)",
      "Cell \u001b[1;32mIn[13], line 2\u001b[0m\n\u001b[0;32m      1\u001b[0m a \u001b[38;5;241m=\u001b[39m np\u001b[38;5;241m.\u001b[39marange(\u001b[38;5;241m29\u001b[39m)\n\u001b[1;32m----> 2\u001b[0m b \u001b[38;5;241m=\u001b[39m \u001b[43ma\u001b[49m\u001b[38;5;241;43m.\u001b[39;49m\u001b[43mreshape\u001b[49m\u001b[43m(\u001b[49m\u001b[43m(\u001b[49m\u001b[38;5;241;43m2\u001b[39;49m\u001b[43m,\u001b[49m\u001b[43m \u001b[49m\u001b[38;5;241;43m3\u001b[39;49m\u001b[43m,\u001b[49m\u001b[43m \u001b[49m\u001b[38;5;241;43m-\u001b[39;49m\u001b[38;5;241;43m1\u001b[39;49m\u001b[43m)\u001b[49m\u001b[43m)\u001b[49m\n\u001b[0;32m      3\u001b[0m \u001b[38;5;28mprint\u001b[39m(a)\n\u001b[0;32m      4\u001b[0m \u001b[38;5;28mprint\u001b[39m()\n",
      "\u001b[1;31mValueError\u001b[0m: cannot reshape array of size 29 into shape (2,3,newaxis)"
     ]
    }
   ],
   "source": [
    "a = np.arange(29)\n",
    "b = a.reshape((2, 3, -1))\n",
    "print(a)\n",
    "print()\n",
    "\n",
    "print(b)"
   ]
  },
  {
   "cell_type": "code",
   "execution_count": null,
   "id": "ca94f48d",
   "metadata": {},
   "outputs": [],
   "source": []
  },
  {
   "cell_type": "markdown",
   "id": "421c9607-819a-401d-949a-97424436fe29",
   "metadata": {
    "id": "421c9607-819a-401d-949a-97424436fe29"
   },
   "source": [
    "# For the exercises below, read the document *\"matematik_yh_antonio_vektorer_matriser_utdrag\"*\n",
    "# Solutions to the exercises and recorded videos can be found here: https://github.com/AntonioPrgomet/matematik_foer_yh\n",
    "\n",
    "# If you find the exercises below very hard, do not worry. Try your best, that will be enough."
   ]
  },
  {
   "cell_type": "markdown",
   "id": "ab5933d5",
   "metadata": {
    "id": "ab5933d5"
   },
   "source": [
    "### Broadcasting\n",
    "**Read the following link about broadcasting: https://numpy.org/doc/stable/user/basics.broadcasting.html#basics-broadcasting**"
   ]
  },
  {
   "cell_type": "markdown",
   "id": "039805ba",
   "metadata": {
    "id": "039805ba"
   },
   "source": [
    "# Remark on Broadcasting when doing Linear Algebra calculations in Python."
   ]
  },
  {
   "cell_type": "markdown",
   "id": "c4bcc147",
   "metadata": {
    "id": "c4bcc147"
   },
   "source": [
    "### From the mathematical rules of matrix addition, the operation below (m1 + m2) does not make sense. The reason is that matrix addition requires two matrices of the same size. In Python however, it works due to broadcasting rules in NumPy. So you must be careful when doing Linear Algebra calculations in Python since they do not follow the \"mathematical rules\". This can however easily be handled by doing some simple programming, for example validating that two matrices have the same shape is easy if you for instance want to add two matrices."
   ]
  },
  {
   "cell_type": "code",
   "execution_count": null,
   "id": "1fd46778",
   "metadata": {
    "id": "1fd46778"
   },
   "outputs": [],
   "source": [
    "m1 = np.array([[1, 2], [3, 4]])\n",
    "m2 = np.array([1, 1])\n",
    "print(m1 + m2)"
   ]
  },
  {
   "cell_type": "markdown",
   "id": "047d6576",
   "metadata": {
    "id": "047d6576"
   },
   "source": [
    "### The example below would also not be allowed if following the \"mathematical rules\" in Linear Algebra. But it works due to broadcasting in NumPy."
   ]
  },
  {
   "cell_type": "code",
   "execution_count": null,
   "id": "5e6ef2e4",
   "metadata": {
    "id": "5e6ef2e4"
   },
   "outputs": [
    {
     "name": "stdout",
     "output_type": "stream",
     "text": [
      "[2 3 4]\n"
     ]
    }
   ],
   "source": [
    "v1 = np.array([1, 2, 3])\n",
    "print(v1 + 1)"
   ]
  },
  {
   "cell_type": "code",
   "execution_count": null,
   "id": "e2cbae26",
   "metadata": {
    "id": "e2cbae26"
   },
   "outputs": [
    {
     "name": "stdout",
     "output_type": "stream",
     "text": [
      "[[1 2]\n",
      " [3 4]]\n",
      "[2 2]\n",
      "[[1 2]\n",
      " [3 4]]\n"
     ]
    }
   ],
   "source": [
    "A = np.arange(1, 5).reshape(2,2)\n",
    "print(A)\n",
    "\n",
    "b = np.array([2, 2])\n",
    "print(b)\n",
    "print(A[:])"
   ]
  },
  {
   "cell_type": "markdown",
   "id": "722fd5cd",
   "metadata": {
    "id": "722fd5cd"
   },
   "source": [
    "# Vector- and matrix algebra Exercises"
   ]
  },
  {
   "cell_type": "markdown",
   "id": "b63a3081-d976-4d9f-bfd0-a63917e79f7d",
   "metadata": {
    "id": "b63a3081-d976-4d9f-bfd0-a63917e79f7d"
   },
   "source": [
    "**Now you are going to create a function that can be reused every time you add or multiply matrices. The function is created so that we do the addition and multiplication according to the rules of vector- and matrix algebra.**\n",
    "\n",
    "**Create a function \"add_mult_matrices\" that takes two matrices as input arguments (validate that the input are of the type numpy.ndarray by using the isinstance function), a third argument that is either 'add' or 'multiply' that specifies if you want to add or multiply the matrices (validate that the third argument is either 'add' or 'multiply'). When doing matrix addition, validate that the matrices have the same size. When doing matrix multiplication, validate that the sizes conform (i.e. number of columns in the first matrix is equal to the number of rows in the second matrix).**"
   ]
  },
  {
   "cell_type": "code",
   "execution_count": null,
   "id": "3506f977-ac0a-473f-85bc-eec9f35dc498",
   "metadata": {
    "id": "3506f977-ac0a-473f-85bc-eec9f35dc498"
   },
   "outputs": [
    {
     "name": "stdout",
     "output_type": "stream",
     "text": [
      "(2, 3)\n",
      "(4, 2)\n",
      "x columns and y rows must match or be one scalar and one array\n"
     ]
    }
   ],
   "source": [
    "def add_mult_matrices(x, y, operation):\n",
    "    \n",
    "        #print(x.shape) \n",
    "        #print(y.shape)\n",
    "        \n",
    "        is_good_matrix = False # Set high when both arrays are of the same size to allow addition\n",
    "        allow_calc = False # Set high when the sizes conform\n",
    "        is_scalar = False # Set high when x is a scalar \n",
    "\n",
    "        \n",
    "        try:\n",
    "                if isinstance(x, int) or isinstance(x, float):\n",
    "                        is_scalar = True\n",
    "        except AttributeError:\n",
    "                pass\n",
    "        \n",
    "        try:\n",
    "                if x.shape == y.shape: # matrices are of the same dimensions\n",
    "                        is_good_matrix = True\n",
    "        except AttributeError:\n",
    "                pass\n",
    "        \n",
    "        \n",
    "        if operation == 'add' and is_good_matrix:\n",
    "                return np.add(x, y)\n",
    "        \n",
    "        if not is_scalar:\n",
    "                if x.shape[1] == y.shape[0]:\n",
    "                        allow_calc = True      \n",
    "              \n",
    "        if operation == 'multiply' and is_scalar:\n",
    "                return np.multiply(x, y)\n",
    "        elif operation == 'multiply' and allow_calc:\n",
    "                return x @ y # can also use np.matmul(x, y) here, the @ operator casts to the matmul function\n",
    "        else:\n",
    "                return 'x columns and y rows must match or be one scalar and one array'\n",
    "        \n",
    "        \n",
    "j = np.array([[2, 1, -1],\n",
    "              [1, -1, 1]])\n",
    "\n",
    "k = np.array([[4, 2],\n",
    "              [-2, -4],\n",
    "              [1, -2],\n",
    "              [1, -2]])\n",
    "\n",
    "print(np.shape(j))\n",
    "print(np.shape(k))\n",
    "print(add_mult_matrices(j ,k ,'multiply'))   \n"
   ]
  },
  {
   "cell_type": "markdown",
   "id": "8dad82d0-2359-4dff-8f5b-a57d3e34103c",
   "metadata": {
    "id": "8dad82d0-2359-4dff-8f5b-a57d3e34103c"
   },
   "source": [
    "### Solve all the exercises in chapter 10.1 in the book \"Matematik för yrkeshögskolan\"."
   ]
  },
  {
   "cell_type": "code",
   "execution_count": null,
   "id": "89df88af-3668-4d98-a0a4-e6d92eea0f89",
   "metadata": {
    "id": "89df88af-3668-4d98-a0a4-e6d92eea0f89"
   },
   "outputs": [
    {
     "name": "stdout",
     "output_type": "stream",
     "text": [
      "Uppgift: 10.1.1\n",
      "a) 1x2\n",
      "b) [20 15]\n",
      "c) [12  9]\n",
      "d) [32 24]\n",
      "e) [32 24]\n",
      "f) [12  9]\n",
      "g) 2x1\n",
      "h) No, it is not defined since the vectors are of different dimensions\n",
      "i) 5 \n",
      "\n"
     ]
    }
   ],
   "source": [
    "print('Uppgift: 10.1.1' )\n",
    "\n",
    "x = np.array([4, 3])\n",
    "\n",
    "print(f'a) {x.ndim}x{x.shape[0]}') # Or just: x.shape but then it assumes that the dimension is 1 so print is: (2, ) instead\n",
    "print(f'b) {add_mult_matrices(5, x, 'multiply')}')\n",
    "\n",
    "print(f'c) {add_mult_matrices(3, x, 'multiply')}')\n",
    "print(f'd) {add_mult_matrices((add_mult_matrices(5, x, 'multiply')), add_mult_matrices(3, x, 'multiply'), 'add')}')\n",
    "\n",
    "print(f'e) {add_mult_matrices(8, x, 'multiply')}')\n",
    "print(f'f) {np.subtract(add_mult_matrices(4, x, 'multiply'), x)}')\n",
    "\n",
    "print(f'g) {(x.reshape(2,-1).shape[0])}x{(x.reshape(2,-1).shape[1])}') # Or just use: x.reshape(2,-1).shape, But then the print format isn't as pretty\n",
    "print(f'h) No, it is not defined since the vectors are of different dimensions')\n",
    "\n",
    "y = np.power(x,2)\n",
    "z  = np.sum(y)\n",
    "print(f'i) {int(np.sqrt(z))} \\n')\n",
    "\n"
   ]
  },
  {
   "cell_type": "code",
   "execution_count": null,
   "id": "88b295ef",
   "metadata": {},
   "outputs": [
    {
     "name": "stdout",
     "output_type": "stream",
     "text": [
      "Uppgift: 10.1.2\n",
      "a) 4x1 \n",
      "\n",
      "b) [[ 6]\n",
      " [14]\n",
      " [ 0]\n",
      " [22]] \n",
      "\n",
      "c) [[21]\n",
      " [49]\n",
      " [ 0]\n",
      " [77]] \n",
      "\n",
      "d) [[ 6]\n",
      " [14]\n",
      " [ 0]\n",
      " [22]]\n",
      "\n",
      "e) ≈ 1x4 \n",
      "\n",
      "f) ≈ 13.38 \n",
      "\n"
     ]
    }
   ],
   "source": [
    "print('Uppgift: 10.1.2' )\n",
    "\n",
    "v = np.array([[3],\n",
    "             [7],\n",
    "             [0],\n",
    "             [11]])\n",
    "\n",
    "print(f'a) {v.shape[0]}x{v.shape[1]} \\n')\n",
    "print(f'b) {add_mult_matrices(2, v, 'multiply')} \\n')\n",
    "\n",
    "print(f'c) {add_mult_matrices((add_mult_matrices(5, v, 'multiply')), add_mult_matrices(2, v, 'multiply'), 'add')} \\n')\n",
    "print(f'd) {np.subtract(add_mult_matrices(4, v, 'multiply'), add_mult_matrices(2, v, 'multiply'))}\\n')\n",
    "\n",
    "v_transpose = v.reshape(1, -1)\n",
    "print(f'e) ≈ {(v_transpose.shape[0])}x{(v_transpose.shape[1])} \\n')\n",
    "\n",
    "y1 = np.power(v,2)\n",
    "z1  = np.sum(y1)\n",
    "print(f'f) ≈ {round(np.sqrt(z1), 2)} \\n')\n",
    "\n"
   ]
  },
  {
   "cell_type": "code",
   "execution_count": null,
   "id": "159723e8",
   "metadata": {},
   "outputs": [
    {
     "name": "stdout",
     "output_type": "stream",
     "text": [
      "Uppgift: 10.1.3 \n",
      "\n",
      "a) ≈ 7.14 \n",
      "\n",
      "b) ≈ 4.47 \n",
      "\n"
     ]
    }
   ],
   "source": [
    "print('Uppgift: 10.1.3 \\n' )\n",
    "\n",
    "v1 = np.array([4, 3, 1, 5])\n",
    "v2 = np.array([2, 3, 1, 1])\n",
    "\n",
    "y2 = np.power(v1,2)\n",
    "z2  = np.sum(y2)\n",
    "print(f'a) ≈ {round(np.sqrt(z2), 2)} \\n')\n",
    "\n",
    "v3 = np.subtract(v1, v2)\n",
    "y3 = np.power(v3,2)\n",
    "z3  = np.sum(y3)\n",
    "print(f'b) ≈ {round(np.sqrt(z3), 2)} \\n')\n"
   ]
  },
  {
   "cell_type": "markdown",
   "id": "75c98984-1f88-4df1-b850-d2466de444a5",
   "metadata": {
    "id": "75c98984-1f88-4df1-b850-d2466de444a5"
   },
   "source": [
    "### Solve all the exercises, except 10.2.4, in chapter 10.2 in the book \"Matematik för yrkeshögskolan\"."
   ]
  },
  {
   "cell_type": "code",
   "execution_count": null,
   "id": "65371610-16e1-48b2-b7fb-65e49002608a",
   "metadata": {
    "id": "65371610-16e1-48b2-b7fb-65e49002608a"
   },
   "outputs": [
    {
     "name": "stdout",
     "output_type": "stream",
     "text": [
      "Uppgift: 10.1.3 \n",
      "\n",
      "a) [[ 4  2 -2]\n",
      " [ 2 -2  2]] \n",
      "\n",
      "b) [[ 0 -4  3]\n",
      " [ 0 -2 -4]] \n",
      "\n",
      "c) Not defined since c and e have different dimensions\n",
      "\n",
      "d) [[3 2]\n",
      " [2 3]]\n",
      "\n",
      "e) [[ 9 12]\n",
      " [12  9]]\n",
      "\n",
      "f) [[-4 -4]\n",
      " [-4 -4]] \n",
      "\n",
      "g) Undefined since at and b are different dimensions\n",
      "\n",
      "h) x columns and y rows must match or be one scalar and one array \n",
      "\n",
      "i) [[11 10]\n",
      " [10 11]] \n",
      "\n",
      "j) [[  8 -10  -3]\n",
      " [ 10  -8   0]] \n",
      "\n",
      "k) [[1 2]\n",
      " [2 1]] \n",
      "\n",
      "k) [[5 2]\n",
      " [7 4]] \n",
      "\n"
     ]
    }
   ],
   "source": [
    "print('Uppgift: 10.1.3 \\n' )\n",
    "\n",
    "a = np.array([[2, 1, -1],\n",
    "              [1, -1, 1]])\n",
    "\n",
    "b = np.array([[4, -2, 1],\n",
    "              [2, -4, -2]])\n",
    "\n",
    "c = np.array([[1, 2],\n",
    "              [2, 1]])\n",
    "\n",
    "d = np.array([[3, 4],\n",
    "              [4, 3]])\n",
    "\n",
    "e = np.array([[1],\n",
    "              [2]])\n",
    "\n",
    "i = np.array([[1, 0],\n",
    "              [0, 1]])\n",
    "\n",
    "print(f'a) {add_mult_matrices(2, a, 'multiply')} \\n')\n",
    "\n",
    "print(f'b) {np.subtract(b, add_mult_matrices(2, a, 'multiply'))} \\n')\n",
    "\n",
    "print(f'c) Not defined since c and e have different dimensions\\n')\n",
    "\n",
    "print(f'd) {np.subtract(add_mult_matrices(2, d, 'multiply'), add_mult_matrices(3, c, 'multiply'))}\\n')\n",
    "\n",
    "d_transpsoe = np.transpose(d)\n",
    "print(f'e) {add_mult_matrices(d_transpsoe, add_mult_matrices(2, d, 'multiply'), 'add')}\\n') # In this case the transposition of d is equal to d, because of the shape of the matrix\n",
    "\n",
    "#  2C⊤ − 2D⊤\n",
    "two_ct = add_mult_matrices(2, np.transpose(c), 'multiply')\n",
    "two_dt = add_mult_matrices(2, np.transpose(d), 'multiply')\n",
    "print(f'f) {np.subtract(two_ct, two_dt)} \\n')\n",
    "\n",
    "print(f'g) Undefined since at and b are different dimensions\\n')\n",
    "\n",
    "print(f'h) {add_mult_matrices(a ,c ,'multiply')} \\n')\n",
    "\n",
    "print(f'i) {add_mult_matrices(c ,d ,'multiply')} \\n')\n",
    "\n",
    "print(f'j) {add_mult_matrices(c ,b ,'multiply')} \\n')\n",
    "\n",
    "print(f'k) {add_mult_matrices(c ,i ,'multiply')} \\n')\n",
    "\n",
    "print(f'k) {add_mult_matrices(a, np.transpose(b) ,'multiply')} \\n')\n",
    "\n"
   ]
  },
  {
   "cell_type": "code",
   "execution_count": null,
   "id": "6a5f0f20",
   "metadata": {},
   "outputs": [
    {
     "name": "stdout",
     "output_type": "stream",
     "text": [
      "Uppgift 10.2.2 \n",
      "\n",
      "a) [[29 26]\n",
      " [26 42]] \n",
      "\n"
     ]
    }
   ],
   "source": [
    "print('Uppgift 10.2.2 \\n')\n",
    "\n",
    "a = np.array([[2, 3, 4],\n",
    "              [5, 4, 1]])\n",
    "print(f'a) {add_mult_matrices(a, np.transpose(a) ,'multiply')} \\n')"
   ]
  },
  {
   "cell_type": "code",
   "execution_count": null,
   "id": "56c5e391",
   "metadata": {},
   "outputs": [
    {
     "name": "stdout",
     "output_type": "stream",
     "text": [
      "Uppgift 10.2.3 \n",
      "\n",
      "[[ 4  7]\n",
      " [ 8 14]] \n",
      "\n",
      "[[ 4  7]\n",
      " [ 8 14]] \n",
      "\n",
      "AB = AC \n",
      " [[ True  True]\n",
      " [ True  True]] \n",
      "\n",
      "B = C \n",
      " [[False False]\n",
      " [False False]]\n"
     ]
    }
   ],
   "source": [
    "print('Uppgift 10.2.3 \\n')\n",
    "\n",
    "a = np.array([[1, 2],\n",
    "              [2, 4]])\n",
    "\n",
    "b = np.array([[2, 1],\n",
    "              [1, 3]])\n",
    "\n",
    "c = np.array([[4, 3],\n",
    "              [0, 2]])\n",
    "\n",
    "x = add_mult_matrices(a, b ,'multiply')\n",
    "y = add_mult_matrices(a, c ,'multiply')\n",
    "\n",
    "print(f'{x} \\n')\n",
    "print(f'{y} \\n')\n",
    "\n",
    "print(f'AB = AC \\n {x == y} \\n')\n",
    "print(f'B = C \\n {b == c}')\n"
   ]
  },
  {
   "cell_type": "markdown",
   "id": "6a4a524f",
   "metadata": {
    "id": "6a4a524f"
   },
   "source": [
    "### Copies and Views\n",
    "Read the following link: https://numpy.org/doc/stable/user/basics.copies.html"
   ]
  },
  {
   "cell_type": "markdown",
   "id": "6cbbeaf7",
   "metadata": {
    "id": "6cbbeaf7"
   },
   "source": [
    "**Basic indexing creates a view, How can you check if v1 and v2 is a view or copy? If you change the last element in v2 to 123, will the last element in v1 be changed? Why?**"
   ]
  },
  {
   "cell_type": "code",
   "execution_count": null,
   "id": "5b9ef4df",
   "metadata": {
    "id": "5b9ef4df"
   },
   "outputs": [
    {
     "name": "stdout",
     "output_type": "stream",
     "text": [
      "[0 1 2 3]\n",
      "[2 3] \n",
      "\n",
      "None\n",
      "[0 1 2 3] \n",
      "\n",
      "[  0   1   2 123]\n",
      "[  2 123]\n"
     ]
    }
   ],
   "source": [
    "v1 = np.arange(4)\n",
    "v2 = v1[-2:]\n",
    "print(v1)\n",
    "print(v2, '\\n')\n",
    "\n",
    "# I can check if it is a view or a copy by changing data in v2 and checking if the data in v1 has changed.\n",
    "# or I can use the base attribute on the arrays, it will return \"none\" for a copy\n",
    "# From numpys guide on views and copies:\n",
    "# \"Views are created when elements can be addressed with offsets and strides in the original array. Hence, basic indexing always creates views.\"\n",
    "# so  in this case we have created a view and any changes I do to v2 will reflect in v1\n",
    "\n",
    "print(v1.base)\n",
    "print(v2.base, '\\n')\n",
    "\n",
    "v2[-1] = 123\n",
    "print(v1)\n",
    "print(v2)"
   ]
  },
  {
   "cell_type": "markdown",
   "id": "b4552fcb",
   "metadata": {},
   "source": [
    "# And of course I could simply have read the next cell and realised that it was simply information about copies/and views and not a task to solve. Oh Well..."
   ]
  },
  {
   "cell_type": "code",
   "execution_count": null,
   "id": "d2440489",
   "metadata": {
    "id": "d2440489"
   },
   "outputs": [
    {
     "name": "stdout",
     "output_type": "stream",
     "text": [
      "None\n",
      "[0 1 2 3]\n"
     ]
    }
   ],
   "source": [
    "# The base attribute of a view returns the original array while it returns None for a copy.\n",
    "print(v1.base)\n",
    "print(v2.base)\n"
   ]
  },
  {
   "cell_type": "code",
   "execution_count": null,
   "id": "c8752807",
   "metadata": {
    "id": "c8752807"
   },
   "outputs": [
    {
     "name": "stdout",
     "output_type": "stream",
     "text": [
      "[  0   1   2 123]\n",
      "[  2 123]\n"
     ]
    }
   ],
   "source": [
    "# The last element in v1 will be changed aswell since v2 is a view, meaning they share the same data buffer.\n",
    "v2[-1] = 123\n",
    "print(v1)\n",
    "print(v2)"
   ]
  }
 ],
 "metadata": {
  "colab": {
   "provenance": []
  },
  "kernelspec": {
   "display_name": "NBI_Handelsakademien",
   "language": "python",
   "name": "python3"
  },
  "language_info": {
   "codemirror_mode": {
    "name": "ipython",
    "version": 3
   },
   "file_extension": ".py",
   "mimetype": "text/x-python",
   "name": "python",
   "nbconvert_exporter": "python",
   "pygments_lexer": "ipython3",
   "version": "3.12.7"
  }
 },
 "nbformat": 4,
 "nbformat_minor": 5
}
